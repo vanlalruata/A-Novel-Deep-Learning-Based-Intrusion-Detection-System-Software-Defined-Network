{
 "cells": [
  {
   "cell_type": "code",
   "execution_count": 86,
   "id": "ab9c6928",
   "metadata": {},
   "outputs": [
    {
     "name": "stdout",
     "output_type": "stream",
     "text": [
      "Read 175341 rows.\n",
      "Dimensions of the Training set: (175341, 43)\n"
     ]
    }
   ],
   "source": [
    "import pandas as pd\n",
    "import numpy as np\n",
    "\n",
    "\n",
    "#df = pd.read_csv('H:/Datasets/UNSW-NB15/training/UNSW_NB15_training.csv', header=None)\n",
    "df = pd.read_csv('H:/Datasets/UNSW-NB15/training/UNSW_NB15_testing.csv', header=None)\n",
    "\n",
    "print(\"Read {} rows.\".format(len(df)))\n",
    "\n",
    "#df.dropna(inplace=True,axis=1) \n",
    "# For now, just drop NA's (rows with missing values)\n",
    "\n",
    "# The CSV file has no column heads, so add them\n",
    "df.columns = [\n",
    "'dur',\n",
    "'prototype',\n",
    "'service',\n",
    "'state',\n",
    "'spkts',\n",
    "'dpkts',\n",
    "'sbytes',\n",
    "'dbytes',\n",
    "'rate',\n",
    "'sttl',\n",
    "'dttl',\n",
    "'sload',\n",
    "'dload',\n",
    "'sloss',\n",
    "'dloss',\n",
    "'sinpkt',\n",
    "'dinpkt',\n",
    "'sjit',\n",
    "'djit',\n",
    "'swin',\n",
    "'stcpb',\n",
    "'dtcpb',\n",
    "'dwin',\n",
    "'tcprtt',\n",
    "'synack',\n",
    "'ackdat',\n",
    "'smean',\n",
    "'dmean',\n",
    "'trans_depth',\n",
    "'response_body_len',\n",
    "'ct_srv_src',\n",
    "'ct_state_ttl',\n",
    "'ct_dst_ltm',\n",
    "'ct_src_dport_ltm',\n",
    "'ct_dst_sport_ltm',\n",
    "'ct_dst_src_ltm',\n",
    "'is_ftp_login',\n",
    "'ct_ftp_cmd',\n",
    "'ct_flw_http_mthd',\n",
    "'ct_src_ltm',\n",
    "'ct_srv_dst',\n",
    "'is_sm_ips_ports',\n",
    "'outcome'\n",
    "]\n",
    "\n",
    "pd.set_option('display.max_columns', 5)\n",
    "pd.set_option('display.max_rows', 5)\n",
    "\n",
    "# display 5 rows\n",
    "#display(df[0:5])\n",
    "\n",
    "print('Dimensions of the Training set:',df.shape)"
   ]
  },
  {
   "cell_type": "code",
   "execution_count": 87,
   "id": "c85a26e5",
   "metadata": {},
   "outputs": [
    {
     "data": {
      "text/html": [
       "<div>\n",
       "<style scoped>\n",
       "    .dataframe tbody tr th:only-of-type {\n",
       "        vertical-align: middle;\n",
       "    }\n",
       "\n",
       "    .dataframe tbody tr th {\n",
       "        vertical-align: top;\n",
       "    }\n",
       "\n",
       "    .dataframe thead th {\n",
       "        text-align: right;\n",
       "    }\n",
       "</style>\n",
       "<table border=\"1\" class=\"dataframe\">\n",
       "  <thead>\n",
       "    <tr style=\"text-align: right;\">\n",
       "      <th></th>\n",
       "      <th>dur</th>\n",
       "      <th>prototype</th>\n",
       "      <th>...</th>\n",
       "      <th>is_sm_ips_ports</th>\n",
       "      <th>outcome</th>\n",
       "    </tr>\n",
       "  </thead>\n",
       "  <tbody>\n",
       "    <tr>\n",
       "      <th>0</th>\n",
       "      <td>0.121478</td>\n",
       "      <td>tcp</td>\n",
       "      <td>...</td>\n",
       "      <td>0</td>\n",
       "      <td>Normal</td>\n",
       "    </tr>\n",
       "    <tr>\n",
       "      <th>1</th>\n",
       "      <td>0.649902</td>\n",
       "      <td>tcp</td>\n",
       "      <td>...</td>\n",
       "      <td>0</td>\n",
       "      <td>Normal</td>\n",
       "    </tr>\n",
       "    <tr>\n",
       "      <th>2</th>\n",
       "      <td>1.623129</td>\n",
       "      <td>tcp</td>\n",
       "      <td>...</td>\n",
       "      <td>0</td>\n",
       "      <td>Normal</td>\n",
       "    </tr>\n",
       "    <tr>\n",
       "      <th>3</th>\n",
       "      <td>1.681642</td>\n",
       "      <td>tcp</td>\n",
       "      <td>...</td>\n",
       "      <td>0</td>\n",
       "      <td>Normal</td>\n",
       "    </tr>\n",
       "    <tr>\n",
       "      <th>4</th>\n",
       "      <td>0.449454</td>\n",
       "      <td>tcp</td>\n",
       "      <td>...</td>\n",
       "      <td>0</td>\n",
       "      <td>Normal</td>\n",
       "    </tr>\n",
       "  </tbody>\n",
       "</table>\n",
       "<p>5 rows × 43 columns</p>\n",
       "</div>"
      ],
      "text/plain": [
       "        dur prototype  ... is_sm_ips_ports outcome\n",
       "0  0.121478       tcp  ...               0  Normal\n",
       "1  0.649902       tcp  ...               0  Normal\n",
       "2  1.623129       tcp  ...               0  Normal\n",
       "3  1.681642       tcp  ...               0  Normal\n",
       "4  0.449454       tcp  ...               0  Normal\n",
       "\n",
       "[5 rows x 43 columns]"
      ]
     },
     "execution_count": 87,
     "metadata": {},
     "output_type": "execute_result"
    }
   ],
   "source": [
    "#Print Train with head\n",
    "df.head(5)"
   ]
  },
  {
   "cell_type": "code",
   "execution_count": 88,
   "id": "951fb245",
   "metadata": {},
   "outputs": [],
   "source": [
    "import pandas as pd\n",
    "import os\n",
    "import numpy as np\n",
    "from sklearn import metrics\n",
    "from scipy.stats import zscore\n",
    "\n",
    "def expand_categories(values):\n",
    "    result = []\n",
    "    s = values.value_counts()\n",
    "    t = float(len(values))\n",
    "    for v in s.index:\n",
    "        result.append(\"{}:{}%\".format(v,round(100*(s[v]/t),2)))\n",
    "    return \"[{}]\".format(\",\".join(result))\n",
    "        \n",
    "def analyze(df):\n",
    "    print()\n",
    "    cols = df.columns.values\n",
    "    total = float(len(df))\n",
    "\n",
    "    print(\"{} rows\".format(int(total)))\n",
    "    for col in cols:\n",
    "        uniques = df[col].unique()\n",
    "        unique_count = len(uniques)\n",
    "        if unique_count>100:\n",
    "            print(\"** {}:{} ({}%)\".format(col,unique_count,int(((unique_count)/total)*100)))\n",
    "        else:\n",
    "            print(\"** {}:{}\".format(col,expand_categories(df[col])))\n",
    "            expand_categories(df[col])"
   ]
  },
  {
   "cell_type": "code",
   "execution_count": 89,
   "id": "bfcdddfa",
   "metadata": {},
   "outputs": [
    {
     "name": "stdout",
     "output_type": "stream",
     "text": [
      "Read 175341 rows.\n",
      "========================================\n",
      "The number of data points are: 175341\n",
      "========================================\n",
      "The number of features are: 43\n",
      "========================================\n",
      "The different type of output labels are: {'Normal', 'Generic', 'DoS', 'Reconnaissance', 'Shellcode', 'Fuzzers', 'Exploits', 'Analysis', 'Worms', 'Backdoor'}\n",
      "=============================================================================================================================\n",
      "The number of different output labels are: 10\n"
     ]
    }
   ],
   "source": [
    "print(\"Read {} rows.\".format(len(df)))\n",
    "print('='*40)\n",
    "print('The number of data points are:', df.shape[0])\n",
    "print('='*40)\n",
    "print('The number of features are:', df.shape[1])\n",
    "print('='*40)\n",
    "output = df['outcome'].values\n",
    "labels = set(output)\n",
    "print('The different type of output labels are:', labels)\n",
    "print('='*125)\n",
    "print('The number of different output labels are:', len(labels))"
   ]
  },
  {
   "cell_type": "code",
   "execution_count": 90,
   "id": "f0fbce91",
   "metadata": {},
   "outputs": [
    {
     "name": "stdout",
     "output_type": "stream",
     "text": [
      "\n",
      "175341 rows\n",
      "** dur:74039 (42%)\n",
      "** prototype:133 (0%)\n",
      "** service:[-:53.71%,dns:26.97%,http:10.68%,smtp:2.88%,ftp-data:2.28%,ftp:1.96%,ssh:0.74%,pop3:0.63%,dhcp:0.05%,snmp:0.05%,ssl:0.03%,irc:0.01%,radius:0.01%]\n",
      "** state:[INT:46.92%,FIN:44.38%,CON:7.5%,REQ:1.14%,RST:0.05%,ECO:0.01%,PAR:0.0%,URN:0.0%,no:0.0%]\n",
      "** spkts:480 (0%)\n",
      "** dpkts:443 (0%)\n",
      "** sbytes:7214 (4%)\n",
      "** dbytes:6660 (3%)\n",
      "** rate:76991 (43%)\n",
      "** sttl:[254:65.44%,31:22.5%,62:10.08%,0:1.8%,64:0.1%,1:0.04%,63:0.02%,255:0.01%,60:0.0%,29:0.0%,252:0.0%]\n",
      "** dttl:[0:48.12%,252:28.88%,29:22.5%,60:0.49%,31:0.0%,254:0.0%]\n",
      "** sload:80885 (46%)\n",
      "** dload:77474 (44%)\n",
      "** sloss:409 (0%)\n",
      "** dloss:370 (0%)\n",
      "** sinpkt:76161 (43%)\n",
      "** dinpkt:74245 (42%)\n",
      "** sjit:77532 (44%)\n",
      "** djit:76831 (43%)\n",
      "** swin:[0:54.41%,255:45.59%,14:0.0%,31:0.0%,167:0.0%,168:0.0%,42:0.0%,172:0.0%,45:0.0%,192:0.0%,87:0.0%,103:0.0%,232:0.0%]\n",
      "** stcpb:75265 (42%)\n",
      "** dtcpb:75089 (42%)\n",
      "** dwin:[0:54.89%,255:45.1%,37:0.0%,40:0.0%,48:0.0%,70:0.0%,244:0.0%]\n",
      "** tcprtt:43319 (24%)\n",
      "** synack:40142 (22%)\n",
      "** ackdat:37708 (21%)\n",
      "** smean:1357 (0%)\n",
      "** dmean:1328 (0%)\n",
      "** trans_depth:[0:89.83%,1:10.12%,2:0.05%,4:0.0%,3:0.0%,5:0.0%,39:0.0%,155:0.0%,163:0.0%,172:0.0%,80:0.0%]\n",
      "** response_body_len:2386 (1%)\n",
      "** ct_srv_src:[1:20.67%,2:11.77%,3:9.51%,4:7.59%,5:6.16%,6:5.76%,7:3.88%,8:2.97%,9:2.4%,33:2.34%,10:2.02%,16:1.59%,12:1.49%,11:1.4%,17:1.39%,34:1.33%,26:1.08%,28:0.97%,32:0.93%,14:0.93%,13:0.9%,24:0.89%,29:0.88%,27:0.86%,31:0.86%,18:0.85%,30:0.84%,23:0.81%,22:0.77%,21:0.7%,25:0.68%,19:0.62%,20:0.62%,15:0.61%,37:0.45%,35:0.36%,36:0.31%,39:0.28%,40:0.23%,38:0.23%,42:0.21%,44:0.19%,46:0.11%,41:0.11%,45:0.11%,43:0.06%,47:0.06%,51:0.06%,49:0.06%,63:0.03%,52:0.03%,50:0.02%]\n",
      "** ct_state_ttl:[2:46.8%,1:28.15%,0:23.26%,6:1.1%,3:0.69%]\n",
      "** ct_dst_ltm:[1:32.25%,2:19.01%,3:10.51%,4:5.81%,16:3.78%,17:3.64%,5:3.58%,6:2.72%,18:2.34%,7:1.57%,8:1.41%,9:1.23%,33:1.23%,14:0.98%,11:0.97%,10:0.96%,13:0.93%,12:0.86%,34:0.85%,15:0.8%,19:0.71%,32:0.38%,25:0.32%,20:0.27%,24:0.25%,27:0.25%,30:0.25%,28:0.24%,21:0.24%,23:0.22%,29:0.19%,35:0.18%,22:0.17%,36:0.16%,26:0.16%,31:0.15%,37:0.08%,41:0.07%,40:0.05%,42:0.05%,51:0.03%,46:0.03%,43:0.03%,45:0.03%,38:0.02%,39:0.02%,50:0.02%,44:0.0%,48:0.0%,47:0.0%]\n",
      "** ct_src_dport_ltm:[1:52.92%,2:14.23%,3:5.32%,16:4.82%,17:3.61%,4:2.28%,33:1.49%,18:1.46%,6:1.15%,5:1.04%,8:0.99%,14:0.98%,10:0.89%,12:0.88%,13:0.87%,34:0.76%,15:0.75%,11:0.73%,9:0.72%,7:0.66%,32:0.38%,25:0.24%,28:0.23%,27:0.23%,30:0.21%,24:0.21%,20:0.21%,29:0.2%,23:0.2%,31:0.18%,21:0.17%,19:0.17%,26:0.15%,22:0.15%,36:0.1%,41:0.07%,42:0.05%,39:0.04%,37:0.04%,35:0.04%,51:0.03%,46:0.03%,43:0.02%,50:0.02%,40:0.02%,45:0.02%,38:0.02%]\n",
      "** ct_dst_sport_ltm:[1:62.53%,2:9.14%,16:6.06%,17:4.44%,3:3.96%,18:1.82%,4:1.68%,14:1.12%,15:1.06%,13:1.06%,8:1.01%,11:0.99%,12:0.97%,10:0.89%,5:0.82%,9:0.75%,7:0.65%,6:0.58%,24:0.07%,19:0.05%,23:0.05%,22:0.05%,20:0.05%,26:0.03%,28:0.03%,25:0.03%,46:0.03%,40:0.02%,21:0.02%,37:0.02%,31:0.02%,27:0.02%]\n",
      "** ct_dst_src_ltm:[1:26.85%,2:14.3%,3:9.59%,4:7.52%,5:5.32%,6:4.27%,7:2.65%,33:2.25%,17:1.59%,8:1.53%,16:1.49%,34:1.49%,10:1.37%,26:1.11%,13:1.05%,28:1.03%,32:0.95%,30:0.86%,23:0.86%,27:0.84%,18:0.83%,9:0.83%,29:0.83%,24:0.8%,31:0.79%,22:0.77%,25:0.75%,12:0.74%,14:0.74%,11:0.7%,21:0.68%,20:0.66%,19:0.55%,15:0.47%,37:0.45%,35:0.38%,36:0.32%,39:0.3%,38:0.23%,40:0.21%,42:0.21%,44:0.19%,41:0.13%,46:0.12%,45:0.11%,51:0.09%,49:0.06%,47:0.05%,43:0.04%,63:0.03%,50:0.02%,52:0.0%,54:0.0%,65:0.0%]\n",
      "** is_ftp_login:[0:98.54%,1:1.45%,4:0.01%,2:0.0%]\n",
      "** ct_ftp_cmd:[0:98.54%,1:1.45%,4:0.01%,2:0.0%]\n",
      "** ct_flw_http_mthd:[0:89.83%,1:9.52%,4:0.48%,9:0.05%,2:0.04%,6:0.02%,30:0.02%,25:0.01%,12:0.01%,16:0.01%,3:0.0%]\n",
      "** ct_src_ltm:[1:24.36%,2:19.2%,3:11.23%,4:7.06%,5:4.64%,17:4.08%,16:3.61%,6:3.21%,18:2.39%,8:2.1%,7:1.91%,9:1.39%,10:1.36%,33:1.1%,13:1.1%,14:1.07%,34:1.07%,19:1.0%,12:0.97%,11:0.94%,15:0.88%,20:0.59%,21:0.48%,27:0.41%,24:0.4%,32:0.39%,23:0.37%,28:0.33%,26:0.32%,22:0.31%,25:0.31%,35:0.21%,31:0.21%,29:0.19%,30:0.19%,37:0.11%,36:0.1%,42:0.08%,41:0.06%,46:0.05%,39:0.05%,40:0.03%,51:0.03%,43:0.03%,38:0.03%,50:0.02%,44:0.02%,45:0.01%,47:0.0%,60:0.0%]\n",
      "** ct_srv_dst:[1:24.07%,2:11.2%,3:9.26%,4:7.14%,5:6.04%,6:5.34%,7:3.55%,8:2.76%,33:2.34%,9:2.0%,10:1.96%,16:1.58%,12:1.37%,17:1.33%,34:1.33%,11:1.27%,26:1.08%,14:0.95%,28:0.95%,32:0.93%,13:0.88%,29:0.88%,27:0.88%,30:0.87%,24:0.87%,31:0.86%,18:0.85%,23:0.82%,22:0.76%,25:0.71%,21:0.68%,20:0.61%,19:0.56%,15:0.46%,37:0.45%,35:0.34%,36:0.32%,39:0.31%,38:0.23%,40:0.21%,42:0.21%,44:0.18%,46:0.11%,41:0.11%,45:0.11%,51:0.09%,49:0.06%,47:0.05%,43:0.04%,62:0.03%,50:0.02%,52:0.0%]\n",
      "** is_sm_ips_ports:[0:98.42%,1:1.58%]\n",
      "** outcome:[Normal:31.94%,Generic:22.81%,Exploits:19.04%,Fuzzers:10.37%,DoS:6.99%,Reconnaissance:5.98%,Analysis:1.14%,Backdoor:1.0%,Shellcode:0.65%,Worms:0.07%]\n"
     ]
    }
   ],
   "source": [
    "# Analyze KDD-NSL\n",
    "analyze(df)"
   ]
  },
  {
   "cell_type": "code",
   "execution_count": 93,
   "id": "1bb04715",
   "metadata": {},
   "outputs": [
    {
     "data": {
      "image/png": "[encoded data removed]",
      "text/plain": [
       "<Figure size 1080x504 with 1 Axes>"
      ]
     },
     "metadata": {
      "needs_background": "light"
     },
     "output_type": "display_data"
    }
   ],
   "source": [
    "import matplotlib.pyplot as plt\n",
    "from matplotlib.pyplot import *\n",
    "\n",
    "plt.figure(figsize=(15,7))\n",
    "class_distribution = df['outcome'].value_counts()\n",
    "class_distribution.plot(kind='bar')\n",
    "plt.xlabel('Class')\n",
    "plt.ylabel('Data points per Class')\n",
    "plt.title('Distribution of Training Data')\n",
    "plt.grid()\n",
    "plt.show()"
   ]
  },
  {
   "cell_type": "code",
   "execution_count": 94,
   "id": "592c42ef",
   "metadata": {},
   "outputs": [
    {
     "name": "stdout",
     "output_type": "stream",
     "text": [
      "Number of data points in class Normal : 56000 ( 31.938 %)\n",
      "Number of data points in class Generic : 40000 ( 22.813 %)\n",
      "Number of data points in class Exploits : 33393 ( 19.045 %)\n",
      "Number of data points in class Fuzzers : 18184 ( 10.371 %)\n",
      "Number of data points in class DoS : 12264 ( 6.994 %)\n",
      "Number of data points in class Reconnaissance : 10491 ( 5.983 %)\n",
      "Number of data points in class Analysis : 2000 ( 1.141 %)\n",
      "Number of data points in class Backdoor : 1746 ( 0.996 %)\n",
      "Number of data points in class Shellcode : 1133 ( 0.646 %)\n",
      "Number of data points in class Worms : 130 ( 0.074 %)\n"
     ]
    }
   ],
   "source": [
    "sorted_ds = np.argsort(-class_distribution.values)\n",
    "for i in sorted_ds:\n",
    "    print('Number of data points in class', class_distribution.index[i],':', class_distribution.values[i], \n",
    "          '(', np.round((class_distribution.values[i]/df.shape[0]*100), 3), '%)')"
   ]
  },
  {
   "cell_type": "code",
   "execution_count": 95,
   "id": "f905eeea",
   "metadata": {},
   "outputs": [],
   "source": [
    "# Encode a numeric column as zscores\n",
    "def encode_numeric_zscore(df, name, mean=None, sd=None):\n",
    "    if mean is None:\n",
    "        mean = df[name].mean()\n",
    "\n",
    "    if sd is None:\n",
    "        sd = df[name].std()\n",
    "\n",
    "    df[name] = (df[name] - mean) / sd\n",
    "    \n",
    "# Encode text values to dummy variables(i.e. [1,0,0],\n",
    "# [0,1,0],[0,0,1] for red,green,blue)\n",
    "def encode_text_dummy(df, name):\n",
    "    dummies = pd.get_dummies(df[name])\n",
    "    for x in dummies.columns:\n",
    "        dummy_name = f\"{name}-{x}\"\n",
    "        df[dummy_name] = dummies[x]\n",
    "    df.drop(name, axis=1, inplace=True)"
   ]
  },
  {
   "cell_type": "code",
   "execution_count": 96,
   "id": "d73e16ee",
   "metadata": {},
   "outputs": [],
   "source": [
    "# Now encode the feature vector\n",
    "\n",
    "encode_numeric_zscore(df, 'dur')\n",
    "encode_text_dummy(df, 'prototype')\n",
    "encode_text_dummy(df, 'service')\n",
    "encode_text_dummy(df, 'state')\n",
    "encode_numeric_zscore(df, 'spkts')\n",
    "encode_numeric_zscore(df, 'dpkts')\n",
    "encode_numeric_zscore(df, 'sbytes')\n",
    "encode_numeric_zscore(df, 'dbytes')\n",
    "encode_numeric_zscore(df, 'rate')\n",
    "encode_numeric_zscore(df, 'sttl')\n",
    "encode_numeric_zscore(df, 'dttl')\n",
    "encode_numeric_zscore(df, 'sload')\n",
    "encode_numeric_zscore(df, 'dload')\n",
    "encode_numeric_zscore(df, 'sloss')\n",
    "encode_numeric_zscore(df, 'dloss')\n",
    "encode_numeric_zscore(df, 'sinpkt')\n",
    "encode_numeric_zscore(df, 'dinpkt')\n",
    "encode_numeric_zscore(df, 'sjit')\n",
    "encode_numeric_zscore(df, 'djit')\n",
    "encode_numeric_zscore(df, 'swin')\n",
    "encode_numeric_zscore(df, 'stcpb')\n",
    "encode_numeric_zscore(df, 'dtcpb')\n",
    "encode_numeric_zscore(df, 'dwin')\n",
    "encode_numeric_zscore(df, 'tcprtt')\n",
    "encode_numeric_zscore(df, 'synack')\n",
    "encode_numeric_zscore(df, 'ackdat')\n",
    "encode_numeric_zscore(df, 'smean')\n",
    "encode_numeric_zscore(df, 'dmean')\n",
    "encode_text_dummy(df, 'trans_depth')\n",
    "encode_numeric_zscore(df, 'response_body_len')\n",
    "encode_numeric_zscore(df, 'ct_srv_src')\n",
    "encode_numeric_zscore(df, 'ct_state_ttl')\n",
    "encode_numeric_zscore(df, 'ct_dst_ltm')\n",
    "encode_numeric_zscore(df, 'ct_src_dport_ltm')\n",
    "encode_numeric_zscore(df, 'ct_dst_sport_ltm')\n",
    "encode_numeric_zscore(df, 'ct_dst_src_ltm')\n",
    "encode_text_dummy(df, 'is_ftp_login')\n",
    "encode_text_dummy(df, 'ct_ftp_cmd')\n",
    "encode_text_dummy(df, 'ct_flw_http_mthd')\n",
    "encode_numeric_zscore(df, 'ct_src_ltm')\n",
    "encode_numeric_zscore(df, 'ct_srv_dst')\n",
    "encode_text_dummy(df, 'is_sm_ips_ports')\n",
    "\n",
    "# display 5 rows\n",
    "\n",
    "df.dropna(inplace=True,axis=1)\n",
    "df[0:5]\n",
    "# This is the numeric feature vector, as it goes to the neural net\n",
    "\n",
    "\n",
    "# Convert to numpy - Classification\n",
    "x_columns = df.columns.drop('outcome')\n",
    "x = df[x_columns].values\n",
    "dummies = pd.get_dummies(df['outcome']) # Classification\n",
    "outcomes = dummies.columns\n",
    "num_classes = len(outcomes)\n",
    "y = dummies.values"
   ]
  },
  {
   "cell_type": "code",
   "execution_count": 103,
   "id": "2919d314",
   "metadata": {},
   "outputs": [
    {
     "name": "stdout",
     "output_type": "stream",
     "text": [
      "Epoch 1/1000\n",
      "4110/4110 - 3s - loss: 0.7810 - accuracy: 0.7164 - val_loss: 0.6658 - val_accuracy: 0.7490\n",
      "Epoch 2/1000\n",
      "4110/4110 - 3s - loss: 0.6527 - accuracy: 0.7540 - val_loss: 0.6689 - val_accuracy: 0.7617\n",
      "Epoch 3/1000\n",
      "4110/4110 - 3s - loss: 0.6406 - accuracy: 0.7614 - val_loss: 0.6459 - val_accuracy: 0.7526\n",
      "Epoch 4/1000\n",
      "4110/4110 - 3s - loss: 0.6328 - accuracy: 0.7664 - val_loss: 0.6545 - val_accuracy: 0.7610\n",
      "Epoch 5/1000\n",
      "4110/4110 - 3s - loss: 0.6297 - accuracy: 0.7706 - val_loss: 0.6432 - val_accuracy: 0.7743\n",
      "Epoch 6/1000\n",
      "4110/4110 - 3s - loss: 0.6253 - accuracy: 0.7722 - val_loss: 0.6464 - val_accuracy: 0.7758\n",
      "Epoch 7/1000\n",
      "4110/4110 - 3s - loss: 0.6231 - accuracy: 0.7739 - val_loss: 0.6425 - val_accuracy: 0.7735\n",
      "Epoch 8/1000\n",
      "4110/4110 - 3s - loss: 0.6190 - accuracy: 0.7767 - val_loss: 0.6533 - val_accuracy: 0.7699\n",
      "Epoch 9/1000\n",
      "4110/4110 - 3s - loss: 0.6174 - accuracy: 0.7795 - val_loss: 0.6454 - val_accuracy: 0.7818\n",
      "Epoch 10/1000\n",
      "Restoring model weights from the end of the best epoch.\n",
      "4110/4110 - 3s - loss: 0.6148 - accuracy: 0.7819 - val_loss: 0.6430 - val_accuracy: 0.7803\n",
      "Epoch 00010: early stopping\n"
     ]
    }
   ],
   "source": [
    "import keras\n",
    "import keras.utils\n",
    "import pandas as pd\n",
    "import io\n",
    "import requests\n",
    "import numpy as np\n",
    "import os\n",
    "from sklearn.model_selection import train_test_split\n",
    "from sklearn import metrics\n",
    "from tensorflow.keras.models import Sequential\n",
    "from tensorflow.keras.layers import Dense, Dropout, Activation\n",
    "from tensorflow.keras.callbacks import EarlyStopping\n",
    "\n",
    "# Split into train/test\n",
    "x_train, x_test, y_train, y_test = train_test_split(x, y, test_size=0.25, random_state=44)\n",
    "\n",
    "# Create deep neural net\n",
    "model = Sequential()\n",
    "model.add(Dense(256, input_dim=x.shape[1], activation='relu'))\n",
    "model.add(Dense(128, input_dim=x.shape[1], activation='relu'))\n",
    "model.add(Dense(256, input_dim=x.shape[1], activation='relu'))\n",
    "model.add(Dense(1, kernel_initializer='normal'))\n",
    "model.add(Dense(y.shape[1],activation='softmax'))\n",
    "\n",
    "opt = keras.optimizers.Adam(learning_rate=0.0001)\n",
    "#model.compile(loss='categorical_crossentropy', optimizer=opt, metrics=[\"accuracy\"])\n",
    "model.compile(loss='categorical_crossentropy', optimizer='adam', metrics=[\"accuracy\"])\n",
    "monitor = EarlyStopping(monitor='val_loss', min_delta=1e-3, \n",
    "                        patience=5, verbose=1, mode='auto',\n",
    "                           restore_best_weights=True)\n",
    "\n",
    "history = model.fit(x_train,y_train,validation_data=(x_test,y_test),\n",
    "          callbacks=[monitor],verbose=2,epochs=1000)\n",
    "\n",
    "#history = model.fit(x_train,y_train,validation_data=(x_test,y_test),\n",
    "          #verbose=2,epochs=1000)"
   ]
  },
  {
   "cell_type": "code",
   "execution_count": 104,
   "id": "f09ca6d3",
   "metadata": {},
   "outputs": [],
   "source": [
    "# Plot for training and validation loss\n",
    "history_dict = history.history\n",
    "loss_values = history_dict['loss']\n",
    "val_loss_values = history_dict['val_loss']"
   ]
  },
  {
   "cell_type": "code",
   "execution_count": 105,
   "id": "8648ba44",
   "metadata": {},
   "outputs": [],
   "source": [
    "start_by_epoch = 1\n",
    "epochs = range(start_by_epoch, len(loss_values) + 1)"
   ]
  },
  {
   "cell_type": "code",
   "execution_count": 106,
   "id": "480dca75",
   "metadata": {},
   "outputs": [
    {
     "data": {
      "image/png": "[encoded data removed]",
      "text/plain": [
       "<Figure size 432x288 with 1 Axes>"
      ]
     },
     "metadata": {
      "needs_background": "light"
     },
     "output_type": "display_data"
    },
    {
     "data": {
      "text/plain": [
       "<Figure size 432x288 with 0 Axes>"
      ]
     },
     "metadata": {},
     "output_type": "display_data"
    }
   ],
   "source": [
    "# Plot for training and validation loss\n",
    "history_dict = history.history\n",
    "loss_values = history_dict['loss']\n",
    "val_loss_values = history_dict['val_loss']\n",
    "\n",
    "plt.plot(epochs, loss_values[start_by_epoch-1:], label='Training Loss')\n",
    "plt.plot(epochs, val_loss_values[start_by_epoch-1:], label='Validation Loss')\n",
    "plt.title('Training and validation loss')\n",
    "plt.xlabel('Epochs')\n",
    "plt.ylabel('Loss')\n",
    "plt.legend()\n",
    "\n",
    "plt.show()\n",
    "plt.clf()"
   ]
  },
  {
   "cell_type": "code",
   "execution_count": 83,
   "id": "c6be172e",
   "metadata": {},
   "outputs": [
    {
     "data": {
      "image/png": "[encoded data removed]",
      "text/plain": [
       "<Figure size 432x288 with 1 Axes>"
      ]
     },
     "metadata": {
      "needs_background": "light"
     },
     "output_type": "display_data"
    },
    {
     "data": {
      "text/plain": [
       "<Figure size 432x288 with 0 Axes>"
      ]
     },
     "metadata": {},
     "output_type": "display_data"
    }
   ],
   "source": [
    "acc = history_dict['accuracy']\n",
    "val_acc = history_dict['val_accuracy']\n",
    "\n",
    "plt.plot(epochs, acc[start_by_epoch-1:], label='Training accuracy')\n",
    "plt.plot(epochs, val_acc[start_by_epoch-1:], label='Validation accuracy')\n",
    "plt.title('Training and validation accuracy')\n",
    "plt.xlabel('Epochs')\n",
    "plt.ylabel('Accuracy')\n",
    "plt.legend()\n",
    "\n",
    "plt.show()\n",
    "plt.clf()"
   ]
  },
  {
   "cell_type": "code",
   "execution_count": 84,
   "id": "65480f23",
   "metadata": {},
   "outputs": [],
   "source": [
    "import seaborn as sns\n",
    "import datetime as dt\n",
    "\n",
    "def confusion_matrix_func(y_test, y_test_pred):\n",
    "    \n",
    "    '''\n",
    "    This function computes the confusion matrix using Predicted and Actual values and plots a confusion matrix heatmap\n",
    "    '''\n",
    "    C = confusion_matrix(y_test, y_test_pred)\n",
    "    cm_df = pd.DataFrame(C)\n",
    "    labels = ['dur', 'spkts', 'dpkts', 'sbytes', 'dbytes', 'rate', 'sttl', 'dttl', 'sload', 'dload', 'sloss', 'dloss', 'sinpkt', 'dinpkt', 'sjit', 'djit', 'swin', 'stcpb', 'dtcpb', 'dwin', 'tcprtt', 'synack', 'ackdat', 'smean', 'dmean', 'trans_depth', 'response_body_len', 'ct_srv_src', 'ct_state_ttl', 'ct_dst_ltm', 'ct_src_dport_ltm', 'ct_dst_sport_ltm', 'ct_dst_src_ltm', 'is_ftp_login', 'ct_ftp_cmd', 'ct_flw_http_mthd', 'ct_src_ltm', 'ct_srv_dst', 'is_sm_ips_ports']\n",
    "    plt.figure(figsize=(20,15))\n",
    "    sns.set(font_scale=1.4)\n",
    "    sns.heatmap(cm_df, annot=True, annot_kws={\"size\":12}, fmt='g', xticklabels=labels, yticklabels=labels)\n",
    "    plt.ylabel('Actual Class')\n",
    "    plt.xlabel('Predicted Class')\n",
    "    \n",
    "    plt.show()\n",
    "\n",
    "# calculate roc curve\n",
    "from sklearn.metrics import *\n",
    "#fpr_RF, tpr_RF, thresholds_RF = roc_curve(y_test, pred)\n",
    "from sklearn import preprocessing\n",
    "def multiclass_roc_auc_score(y_test, pred, average=\"macro\"):\n",
    "    lb = preprocessing.LabelBinarizer()\n",
    "    lb.fit(y_test)\n",
    "    y_test = lb.transform(y_test)\n",
    "    pred = lb.transform(pred)\n",
    "    return roc_auc_score(y_test, pred, average=average)"
   ]
  },
  {
   "cell_type": "code",
   "execution_count": 85,
   "id": "95ed434f",
   "metadata": {},
   "outputs": [
    {
     "name": "stdout",
     "output_type": "stream",
     "text": [
      "644/644 [==============================] - 0s 506us/step - loss: 0.7432 - accuracy: 0.7661\n",
      "Validation score: 0.7660690861390468\n",
      "Evaluation score: [0.7431974411010742, 0.7660691142082214]\n",
      "Recall score: 0.7660690861390468\n",
      "Precision score: 0.6756906891795279\n",
      "F1 Measure score: 0.7034348210871086\n",
      "ROC-AUC score: 0.6268263074262475\n"
     ]
    },
    {
     "name": "stderr",
     "output_type": "stream",
     "text": [
      "C:\\Users\\Maruata\\anaconda3\\lib\\site-packages\\sklearn\\metrics\\_classification.py:1245: UndefinedMetricWarning: Precision is ill-defined and being set to 0.0 in labels with no predicted samples. Use `zero_division` parameter to control this behavior.\n",
      "  _warn_prf(average, modifier, msg_start, len(result))\n"
     ]
    }
   ],
   "source": [
    "# Measure accuracy\n",
    "from sklearn.metrics import accuracy_score, confusion_matrix, precision_score, recall_score, f1_score, roc_auc_score\n",
    "# calculate roc curve\n",
    "from sklearn.metrics import *\n",
    "#fpr_RF, tpr_RF, thresholds_RF = roc_curve(y_test, pred)\n",
    "from sklearn import preprocessing\n",
    "\n",
    "pred = model.predict(x_test)\n",
    "pred = np.argmax(pred,axis=1)\n",
    "\n",
    "escore = model.evaluate(x_test, y_test, batch_size=32)\n",
    "\n",
    "y_eval = np.argmax(y_test,axis=1)\n",
    "\n",
    "score = accuracy_score(y_eval, pred)\n",
    "rscore = recall_score(y_eval, pred, average='weighted')\n",
    "ascore = precision_score(y_eval, pred, average='weighted')\n",
    "f1score= f1_score(y_eval, pred, average='weighted')\n",
    "\n",
    "lb = preprocessing.LabelBinarizer()\n",
    "lb.fit(y_eval)\n",
    "y_eval = lb.transform(y_eval)\n",
    "pred = lb.transform(pred)\n",
    "roc_score = roc_auc_score(y_eval, pred)\n",
    "\n",
    "print(\"Validation score: {}\".format(score))\n",
    "print(\"Evaluation score: {}\".format(escore))\n",
    "print(\"Recall score: {}\".format(rscore))\n",
    "print(\"Precision score: {}\".format(ascore))\n",
    "print(\"F1 Measure score: {}\".format(f1score))\n",
    "print(\"ROC-AUC score: {}\".format(roc_score))"
   ]
  },
  {
   "cell_type": "code",
   "execution_count": 20,
   "id": "8cd4fb1d",
   "metadata": {},
   "outputs": [
    {
     "ename": "ValueError",
     "evalue": "multilabel-indicator is not supported",
     "output_type": "error",
     "traceback": [
      "\u001b[1;31m---------------------------------------------------------------------------\u001b[0m",
      "\u001b[1;31mValueError\u001b[0m                                Traceback (most recent call last)",
      "\u001b[1;32m<ipython-input-20-b9820daafde9>\u001b[0m in \u001b[0;36m<module>\u001b[1;34m\u001b[0m\n\u001b[1;32m----> 1\u001b[1;33m \u001b[0mconfusion_matrix_func\u001b[0m\u001b[1;33m(\u001b[0m\u001b[0my_eval\u001b[0m\u001b[1;33m,\u001b[0m \u001b[0mpred\u001b[0m\u001b[1;33m)\u001b[0m\u001b[1;33m\u001b[0m\u001b[1;33m\u001b[0m\u001b[0m\n\u001b[0m",
      "\u001b[1;32m<ipython-input-18-bf54e6ebf410>\u001b[0m in \u001b[0;36mconfusion_matrix_func\u001b[1;34m(y_test, y_test_pred)\u001b[0m\n\u001b[0;32m      7\u001b[0m     \u001b[0mThis\u001b[0m \u001b[0mfunction\u001b[0m \u001b[0mcomputes\u001b[0m \u001b[0mthe\u001b[0m \u001b[0mconfusion\u001b[0m \u001b[0mmatrix\u001b[0m \u001b[0musing\u001b[0m \u001b[0mPredicted\u001b[0m \u001b[1;32mand\u001b[0m \u001b[0mActual\u001b[0m \u001b[0mvalues\u001b[0m \u001b[1;32mand\u001b[0m \u001b[0mplots\u001b[0m \u001b[0ma\u001b[0m \u001b[0mconfusion\u001b[0m \u001b[0mmatrix\u001b[0m \u001b[0mheatmap\u001b[0m\u001b[1;33m\u001b[0m\u001b[1;33m\u001b[0m\u001b[0m\n\u001b[0;32m      8\u001b[0m     '''\n\u001b[1;32m----> 9\u001b[1;33m     \u001b[0mC\u001b[0m \u001b[1;33m=\u001b[0m \u001b[0mconfusion_matrix\u001b[0m\u001b[1;33m(\u001b[0m\u001b[0my_test\u001b[0m\u001b[1;33m,\u001b[0m \u001b[0my_test_pred\u001b[0m\u001b[1;33m)\u001b[0m\u001b[1;33m\u001b[0m\u001b[1;33m\u001b[0m\u001b[0m\n\u001b[0m\u001b[0;32m     10\u001b[0m     \u001b[0mcm_df\u001b[0m \u001b[1;33m=\u001b[0m \u001b[0mpd\u001b[0m\u001b[1;33m.\u001b[0m\u001b[0mDataFrame\u001b[0m\u001b[1;33m(\u001b[0m\u001b[0mC\u001b[0m\u001b[1;33m)\u001b[0m\u001b[1;33m\u001b[0m\u001b[1;33m\u001b[0m\u001b[0m\n\u001b[0;32m     11\u001b[0m     \u001b[0mlabels\u001b[0m \u001b[1;33m=\u001b[0m \u001b[1;33m[\u001b[0m\u001b[1;34m'dur'\u001b[0m\u001b[1;33m,\u001b[0m \u001b[1;34m'spkts'\u001b[0m\u001b[1;33m,\u001b[0m \u001b[1;34m'dpkts'\u001b[0m\u001b[1;33m,\u001b[0m \u001b[1;34m'sbytes'\u001b[0m\u001b[1;33m,\u001b[0m \u001b[1;34m'dbytes'\u001b[0m\u001b[1;33m,\u001b[0m \u001b[1;34m'rate'\u001b[0m\u001b[1;33m,\u001b[0m \u001b[1;34m'sttl'\u001b[0m\u001b[1;33m,\u001b[0m \u001b[1;34m'dttl'\u001b[0m\u001b[1;33m,\u001b[0m \u001b[1;34m'sload'\u001b[0m\u001b[1;33m,\u001b[0m \u001b[1;34m'dload'\u001b[0m\u001b[1;33m,\u001b[0m \u001b[1;34m'sloss'\u001b[0m\u001b[1;33m,\u001b[0m \u001b[1;34m'dloss'\u001b[0m\u001b[1;33m,\u001b[0m \u001b[1;34m'sinpkt'\u001b[0m\u001b[1;33m,\u001b[0m \u001b[1;34m'dinpkt'\u001b[0m\u001b[1;33m,\u001b[0m \u001b[1;34m'sjit'\u001b[0m\u001b[1;33m,\u001b[0m \u001b[1;34m'djit'\u001b[0m\u001b[1;33m,\u001b[0m \u001b[1;34m'swin'\u001b[0m\u001b[1;33m,\u001b[0m \u001b[1;34m'stcpb'\u001b[0m\u001b[1;33m,\u001b[0m \u001b[1;34m'dtcpb'\u001b[0m\u001b[1;33m,\u001b[0m \u001b[1;34m'dwin'\u001b[0m\u001b[1;33m,\u001b[0m \u001b[1;34m'tcprtt'\u001b[0m\u001b[1;33m,\u001b[0m \u001b[1;34m'synack'\u001b[0m\u001b[1;33m,\u001b[0m \u001b[1;34m'ackdat'\u001b[0m\u001b[1;33m,\u001b[0m \u001b[1;34m'smean'\u001b[0m\u001b[1;33m,\u001b[0m \u001b[1;34m'dmean'\u001b[0m\u001b[1;33m,\u001b[0m \u001b[1;34m'trans_depth'\u001b[0m\u001b[1;33m,\u001b[0m \u001b[1;34m'response_body_len'\u001b[0m\u001b[1;33m,\u001b[0m \u001b[1;34m'ct_srv_src'\u001b[0m\u001b[1;33m,\u001b[0m \u001b[1;34m'ct_state_ttl'\u001b[0m\u001b[1;33m,\u001b[0m \u001b[1;34m'ct_dst_ltm'\u001b[0m\u001b[1;33m,\u001b[0m \u001b[1;34m'ct_src_dport_ltm'\u001b[0m\u001b[1;33m,\u001b[0m \u001b[1;34m'ct_dst_sport_ltm'\u001b[0m\u001b[1;33m,\u001b[0m \u001b[1;34m'ct_dst_src_ltm'\u001b[0m\u001b[1;33m,\u001b[0m \u001b[1;34m'is_ftp_login'\u001b[0m\u001b[1;33m,\u001b[0m \u001b[1;34m'ct_ftp_cmd'\u001b[0m\u001b[1;33m,\u001b[0m \u001b[1;34m'ct_flw_http_mthd'\u001b[0m\u001b[1;33m,\u001b[0m \u001b[1;34m'ct_src_ltm'\u001b[0m\u001b[1;33m,\u001b[0m \u001b[1;34m'ct_srv_dst'\u001b[0m\u001b[1;33m,\u001b[0m \u001b[1;34m'is_sm_ips_ports'\u001b[0m\u001b[1;33m]\u001b[0m\u001b[1;33m\u001b[0m\u001b[1;33m\u001b[0m\u001b[0m\n",
      "\u001b[1;32m~\\anaconda3\\lib\\site-packages\\sklearn\\utils\\validation.py\u001b[0m in \u001b[0;36minner_f\u001b[1;34m(*args, **kwargs)\u001b[0m\n\u001b[0;32m     61\u001b[0m             \u001b[0mextra_args\u001b[0m \u001b[1;33m=\u001b[0m \u001b[0mlen\u001b[0m\u001b[1;33m(\u001b[0m\u001b[0margs\u001b[0m\u001b[1;33m)\u001b[0m \u001b[1;33m-\u001b[0m \u001b[0mlen\u001b[0m\u001b[1;33m(\u001b[0m\u001b[0mall_args\u001b[0m\u001b[1;33m)\u001b[0m\u001b[1;33m\u001b[0m\u001b[1;33m\u001b[0m\u001b[0m\n\u001b[0;32m     62\u001b[0m             \u001b[1;32mif\u001b[0m \u001b[0mextra_args\u001b[0m \u001b[1;33m<=\u001b[0m \u001b[1;36m0\u001b[0m\u001b[1;33m:\u001b[0m\u001b[1;33m\u001b[0m\u001b[1;33m\u001b[0m\u001b[0m\n\u001b[1;32m---> 63\u001b[1;33m                 \u001b[1;32mreturn\u001b[0m \u001b[0mf\u001b[0m\u001b[1;33m(\u001b[0m\u001b[1;33m*\u001b[0m\u001b[0margs\u001b[0m\u001b[1;33m,\u001b[0m \u001b[1;33m**\u001b[0m\u001b[0mkwargs\u001b[0m\u001b[1;33m)\u001b[0m\u001b[1;33m\u001b[0m\u001b[1;33m\u001b[0m\u001b[0m\n\u001b[0m\u001b[0;32m     64\u001b[0m \u001b[1;33m\u001b[0m\u001b[0m\n\u001b[0;32m     65\u001b[0m             \u001b[1;31m# extra_args > 0\u001b[0m\u001b[1;33m\u001b[0m\u001b[1;33m\u001b[0m\u001b[1;33m\u001b[0m\u001b[0m\n",
      "\u001b[1;32m~\\anaconda3\\lib\\site-packages\\sklearn\\metrics\\_classification.py\u001b[0m in \u001b[0;36mconfusion_matrix\u001b[1;34m(y_true, y_pred, labels, sample_weight, normalize)\u001b[0m\n\u001b[0;32m    296\u001b[0m     \u001b[0my_type\u001b[0m\u001b[1;33m,\u001b[0m \u001b[0my_true\u001b[0m\u001b[1;33m,\u001b[0m \u001b[0my_pred\u001b[0m \u001b[1;33m=\u001b[0m \u001b[0m_check_targets\u001b[0m\u001b[1;33m(\u001b[0m\u001b[0my_true\u001b[0m\u001b[1;33m,\u001b[0m \u001b[0my_pred\u001b[0m\u001b[1;33m)\u001b[0m\u001b[1;33m\u001b[0m\u001b[1;33m\u001b[0m\u001b[0m\n\u001b[0;32m    297\u001b[0m     \u001b[1;32mif\u001b[0m \u001b[0my_type\u001b[0m \u001b[1;32mnot\u001b[0m \u001b[1;32min\u001b[0m \u001b[1;33m(\u001b[0m\u001b[1;34m\"binary\"\u001b[0m\u001b[1;33m,\u001b[0m \u001b[1;34m\"multiclass\"\u001b[0m\u001b[1;33m)\u001b[0m\u001b[1;33m:\u001b[0m\u001b[1;33m\u001b[0m\u001b[1;33m\u001b[0m\u001b[0m\n\u001b[1;32m--> 298\u001b[1;33m         \u001b[1;32mraise\u001b[0m \u001b[0mValueError\u001b[0m\u001b[1;33m(\u001b[0m\u001b[1;34m\"%s is not supported\"\u001b[0m \u001b[1;33m%\u001b[0m \u001b[0my_type\u001b[0m\u001b[1;33m)\u001b[0m\u001b[1;33m\u001b[0m\u001b[1;33m\u001b[0m\u001b[0m\n\u001b[0m\u001b[0;32m    299\u001b[0m \u001b[1;33m\u001b[0m\u001b[0m\n\u001b[0;32m    300\u001b[0m     \u001b[1;32mif\u001b[0m \u001b[0mlabels\u001b[0m \u001b[1;32mis\u001b[0m \u001b[1;32mNone\u001b[0m\u001b[1;33m:\u001b[0m\u001b[1;33m\u001b[0m\u001b[1;33m\u001b[0m\u001b[0m\n",
      "\u001b[1;31mValueError\u001b[0m: multilabel-indicator is not supported"
     ]
    }
   ],
   "source": [
    "confusion_matrix_func(y_eval, pred)"
   ]
  },
  {
   "cell_type": "code",
   "execution_count": null,
   "id": "abe59c19",
   "metadata": {},
   "outputs": [],
   "source": []
  }
 ],
 "metadata": {
  "kernelspec": {
   "display_name": "Python 3",
   "language": "python",
   "name": "python3"
  },
  "language_info": {
   "codemirror_mode": {
    "name": "ipython",
    "version": 3
   },
   "file_extension": ".py",
   "mimetype": "text/x-python",
   "name": "python",
   "nbconvert_exporter": "python",
   "pygments_lexer": "ipython3",
   "version": "3.8.8"
  }
 },
 "nbformat": 4,
 "nbformat_minor": 5
}
